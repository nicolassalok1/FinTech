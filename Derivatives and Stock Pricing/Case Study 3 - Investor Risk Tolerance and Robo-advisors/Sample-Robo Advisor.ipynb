{
 "cells": [
  {
   "cell_type": "markdown",
   "metadata": {},
   "source": [
    "# Robo Advisor - Dashboard"
   ]
  },
  {
   "cell_type": "markdown",
   "metadata": {},
   "source": [
    "## Content\n",
    "* [1. Loading the Libraries and the data](#1)\n",
    "* [2. Code for the dashboard Interface](#2)\n",
    "* [3. Code for the underlying functions within the interface](#3)\n",
    "\n",
    "\n",
    "#### Note that the dashboard opens up in a separate browser. The url for the browser will be produced in the end of the code and would look something like \"http://127.0.0.1:8080\""
   ]
  },
  {
   "cell_type": "markdown",
   "metadata": {},
   "source": [
    "<a id='1'></a>\n",
    "## 1. Loading the Libraries and the data"
   ]
  },
  {
   "cell_type": "markdown",
   "metadata": {},
   "source": [
    "Checking if the additional packages needed are present, if not install them. These are checked separately as they aren't included in requirement.txt as they aren't used for all case studies."
   ]
  },
  {
   "cell_type": "code",
   "metadata": {
    "ExecuteTime": {
     "end_time": "2025-05-06T14:50:24.506752Z",
     "start_time": "2025-05-06T14:50:24.504376Z"
    }
   },
   "source": "",
   "outputs": [],
   "execution_count": null
  },
  {
   "cell_type": "markdown",
   "metadata": {},
   "source": [
    "Importing the packages needed"
   ]
  },
  {
   "cell_type": "code",
   "metadata": {
    "ExecuteTime": {
     "end_time": "2025-05-06T14:50:24.604781Z",
     "start_time": "2025-05-06T14:50:24.530912Z"
    }
   },
   "source": [
    "import dash\n",
    "from dash import html, dcc\n",
    "from dash.dependencies import Input,Output,State\n",
    "import pandas as pd\n",
    "import numpy as np\n",
    "import plotly.graph_objs as go\n",
    "import dash_daq as daq\n",
    "from pickle import load\n",
    "import cvxopt as opt\n",
    "from cvxopt import blas, solvers"
   ],
   "outputs": [],
   "execution_count": 3
  },
  {
   "cell_type": "markdown",
   "metadata": {},
   "source": [
    "### Load the data of the investors/individuals"
   ]
  },
  {
   "cell_type": "code",
   "metadata": {
    "ExecuteTime": {
     "end_time": "2025-05-06T14:50:24.636137Z",
     "start_time": "2025-05-06T14:50:24.610470Z"
    }
   },
   "source": [
    "# df.head()\n",
    "investors = pd.read_csv('InputData.csv', index_col = 0 )\n",
    "investors.head(1)"
   ],
   "outputs": [
    {
     "data": {
      "text/plain": [
       "   AGE07  EDCL07  MARRIED07  KIDS07  LIFECL07  OCCAT107      INCOME07  RISK07  \\\n",
       "0     47       2          1       0         2         1  56443.744181       3   \n",
       "\n",
       "   WSAVED07  SPENDMOR07   NETWORTH07  TrueRiskTol  \n",
       "0         1           5  352641.7113     6.947439  "
      ],
      "text/html": [
       "<div>\n",
       "<style scoped>\n",
       "    .dataframe tbody tr th:only-of-type {\n",
       "        vertical-align: middle;\n",
       "    }\n",
       "\n",
       "    .dataframe tbody tr th {\n",
       "        vertical-align: top;\n",
       "    }\n",
       "\n",
       "    .dataframe thead th {\n",
       "        text-align: right;\n",
       "    }\n",
       "</style>\n",
       "<table border=\"1\" class=\"dataframe\">\n",
       "  <thead>\n",
       "    <tr style=\"text-align: right;\">\n",
       "      <th></th>\n",
       "      <th>AGE07</th>\n",
       "      <th>EDCL07</th>\n",
       "      <th>MARRIED07</th>\n",
       "      <th>KIDS07</th>\n",
       "      <th>LIFECL07</th>\n",
       "      <th>OCCAT107</th>\n",
       "      <th>INCOME07</th>\n",
       "      <th>RISK07</th>\n",
       "      <th>WSAVED07</th>\n",
       "      <th>SPENDMOR07</th>\n",
       "      <th>NETWORTH07</th>\n",
       "      <th>TrueRiskTol</th>\n",
       "    </tr>\n",
       "  </thead>\n",
       "  <tbody>\n",
       "    <tr>\n",
       "      <th>0</th>\n",
       "      <td>47</td>\n",
       "      <td>2</td>\n",
       "      <td>1</td>\n",
       "      <td>0</td>\n",
       "      <td>2</td>\n",
       "      <td>1</td>\n",
       "      <td>56443.744181</td>\n",
       "      <td>3</td>\n",
       "      <td>1</td>\n",
       "      <td>5</td>\n",
       "      <td>352641.7113</td>\n",
       "      <td>6.947439</td>\n",
       "    </tr>\n",
       "  </tbody>\n",
       "</table>\n",
       "</div>"
      ]
     },
     "execution_count": 4,
     "metadata": {},
     "output_type": "execute_result"
    }
   ],
   "execution_count": 4
  },
  {
   "cell_type": "markdown",
   "metadata": {},
   "source": [
    "### Load the market data and clean the data"
   ]
  },
  {
   "cell_type": "code",
   "metadata": {
    "ExecuteTime": {
     "end_time": "2025-05-06T14:50:24.730322Z",
     "start_time": "2025-05-06T14:50:24.678660Z"
    }
   },
   "source": [
    "assets = pd.read_csv('SP500Data.csv',index_col=0)\n",
    "missing_fractions = assets.isnull().mean().sort_values(ascending=False)\n",
    "\n",
    "missing_fractions.head(10)\n",
    "\n",
    "drop_list = sorted(list(missing_fractions[missing_fractions > 0.3].index))\n",
    "\n",
    "assets.drop(labels=drop_list, axis=1, inplace=True)\n",
    "assets.shape\n",
    "# Fill the missing values with the last value available in the dataset. \n",
    "assets=assets.fillna(method='ffill')\n",
    "assets.head(2)"
   ],
   "outputs": [
    {
     "name": "stderr",
     "output_type": "stream",
     "text": [
      "C:\\Users\\nicol\\AppData\\Local\\Temp\\ipykernel_32464\\2059804176.py:11: FutureWarning: DataFrame.fillna with 'method' is deprecated and will raise in a future version. Use obj.ffill() or obj.bfill() instead.\n",
      "  assets=assets.fillna(method='ffill')\n"
     ]
    },
    {
     "data": {
      "text/plain": [
       "                  ABT       ABBV        ABMD         ACN       ATVI  \\\n",
       "Date                                                                  \n",
       "2018-01-02  58.790001  98.410004  192.490005  153.839996  64.309998   \n",
       "2018-01-03  58.919998  99.949997  195.820007  154.550003  65.309998   \n",
       "\n",
       "                  ADBE    AMD         AAP    AES         AMG  ...        WLTW  \\\n",
       "Date                                                          ...               \n",
       "2018-01-02  177.699997  10.98  106.089996  10.88  203.039993  ...  146.990005   \n",
       "2018-01-03  181.039993  11.55  107.050003  10.87  202.119995  ...  149.740005   \n",
       "\n",
       "                  WYNN        XEL        XRX       XLNX        XYL        YUM  \\\n",
       "Date                                                                            \n",
       "2018-01-02  164.300003  47.810001  29.370001  67.879997  68.070000  81.599998   \n",
       "2018-01-03  162.520004  47.490002  29.330000  69.239998  68.900002  81.529999   \n",
       "\n",
       "                   ZBH       ZION        ZTS  \n",
       "Date                                          \n",
       "2018-01-02  124.059998  50.700001  71.769997  \n",
       "2018-01-03  124.919998  50.639999  72.099998  \n",
       "\n",
       "[2 rows x 498 columns]"
      ],
      "text/html": [
       "<div>\n",
       "<style scoped>\n",
       "    .dataframe tbody tr th:only-of-type {\n",
       "        vertical-align: middle;\n",
       "    }\n",
       "\n",
       "    .dataframe tbody tr th {\n",
       "        vertical-align: top;\n",
       "    }\n",
       "\n",
       "    .dataframe thead th {\n",
       "        text-align: right;\n",
       "    }\n",
       "</style>\n",
       "<table border=\"1\" class=\"dataframe\">\n",
       "  <thead>\n",
       "    <tr style=\"text-align: right;\">\n",
       "      <th></th>\n",
       "      <th>ABT</th>\n",
       "      <th>ABBV</th>\n",
       "      <th>ABMD</th>\n",
       "      <th>ACN</th>\n",
       "      <th>ATVI</th>\n",
       "      <th>ADBE</th>\n",
       "      <th>AMD</th>\n",
       "      <th>AAP</th>\n",
       "      <th>AES</th>\n",
       "      <th>AMG</th>\n",
       "      <th>...</th>\n",
       "      <th>WLTW</th>\n",
       "      <th>WYNN</th>\n",
       "      <th>XEL</th>\n",
       "      <th>XRX</th>\n",
       "      <th>XLNX</th>\n",
       "      <th>XYL</th>\n",
       "      <th>YUM</th>\n",
       "      <th>ZBH</th>\n",
       "      <th>ZION</th>\n",
       "      <th>ZTS</th>\n",
       "    </tr>\n",
       "    <tr>\n",
       "      <th>Date</th>\n",
       "      <th></th>\n",
       "      <th></th>\n",
       "      <th></th>\n",
       "      <th></th>\n",
       "      <th></th>\n",
       "      <th></th>\n",
       "      <th></th>\n",
       "      <th></th>\n",
       "      <th></th>\n",
       "      <th></th>\n",
       "      <th></th>\n",
       "      <th></th>\n",
       "      <th></th>\n",
       "      <th></th>\n",
       "      <th></th>\n",
       "      <th></th>\n",
       "      <th></th>\n",
       "      <th></th>\n",
       "      <th></th>\n",
       "      <th></th>\n",
       "      <th></th>\n",
       "    </tr>\n",
       "  </thead>\n",
       "  <tbody>\n",
       "    <tr>\n",
       "      <th>2018-01-02</th>\n",
       "      <td>58.790001</td>\n",
       "      <td>98.410004</td>\n",
       "      <td>192.490005</td>\n",
       "      <td>153.839996</td>\n",
       "      <td>64.309998</td>\n",
       "      <td>177.699997</td>\n",
       "      <td>10.98</td>\n",
       "      <td>106.089996</td>\n",
       "      <td>10.88</td>\n",
       "      <td>203.039993</td>\n",
       "      <td>...</td>\n",
       "      <td>146.990005</td>\n",
       "      <td>164.300003</td>\n",
       "      <td>47.810001</td>\n",
       "      <td>29.370001</td>\n",
       "      <td>67.879997</td>\n",
       "      <td>68.070000</td>\n",
       "      <td>81.599998</td>\n",
       "      <td>124.059998</td>\n",
       "      <td>50.700001</td>\n",
       "      <td>71.769997</td>\n",
       "    </tr>\n",
       "    <tr>\n",
       "      <th>2018-01-03</th>\n",
       "      <td>58.919998</td>\n",
       "      <td>99.949997</td>\n",
       "      <td>195.820007</td>\n",
       "      <td>154.550003</td>\n",
       "      <td>65.309998</td>\n",
       "      <td>181.039993</td>\n",
       "      <td>11.55</td>\n",
       "      <td>107.050003</td>\n",
       "      <td>10.87</td>\n",
       "      <td>202.119995</td>\n",
       "      <td>...</td>\n",
       "      <td>149.740005</td>\n",
       "      <td>162.520004</td>\n",
       "      <td>47.490002</td>\n",
       "      <td>29.330000</td>\n",
       "      <td>69.239998</td>\n",
       "      <td>68.900002</td>\n",
       "      <td>81.529999</td>\n",
       "      <td>124.919998</td>\n",
       "      <td>50.639999</td>\n",
       "      <td>72.099998</td>\n",
       "    </tr>\n",
       "  </tbody>\n",
       "</table>\n",
       "<p>2 rows × 498 columns</p>\n",
       "</div>"
      ]
     },
     "execution_count": 5,
     "metadata": {},
     "output_type": "execute_result"
    }
   ],
   "execution_count": 5
  },
  {
   "cell_type": "code",
   "metadata": {
    "ExecuteTime": {
     "end_time": "2025-05-06T14:50:24.794875Z",
     "start_time": "2025-05-06T14:50:24.790036Z"
    }
   },
   "source": [
    "options=np.array(assets.columns)\n",
    "# str(options)\n",
    "options = []\n",
    "\n",
    "for tic in assets.columns:\n",
    "    #{'label': 'user sees', 'value': 'script sees'}\n",
    "    mydict = {}\n",
    "    mydict['label'] = tic #Apple Co. AAPL\n",
    "    mydict['value'] = tic\n",
    "    options.append(mydict)"
   ],
   "outputs": [],
   "execution_count": 6
  },
  {
   "cell_type": "markdown",
   "metadata": {},
   "source": [
    "<a id='2'></a>\n",
    "## 2. Code for the dashboard Interface"
   ]
  },
  {
   "cell_type": "code",
   "metadata": {
    "ExecuteTime": {
     "end_time": "2025-05-06T14:50:25.062183Z",
     "start_time": "2025-05-06T14:50:25.031092Z"
    }
   },
   "source": [
    "app = dash.Dash(__name__, external_stylesheets=['https://codepen.io/chriddyp/pen/bWLwgP.css'])"
   ],
   "outputs": [],
   "execution_count": 7
  },
  {
   "cell_type": "code",
   "metadata": {
    "ExecuteTime": {
     "end_time": "2025-05-06T14:50:25.235736Z",
     "start_time": "2025-05-06T14:50:25.213657Z"
    }
   },
   "source": [
    "app.layout = html.Div([\n",
    "    html.Div([ \n",
    "        #Dashboard Name\n",
    "        html.Div([\n",
    "            html.H3(children='Robo Advisor Dashboard'),\n",
    "            html.Div([\n",
    "                html.H5(children='Step 1 : Enter Investor Characteristics '),            \n",
    "                ],style={'display': 'inline-block','vertical-align': 'top',  'width': '30%',\\\n",
    "                         'color':'black', 'background-color': 'LightGray'}), \n",
    "            html.Div([\n",
    "                html.H5(children='Step 2 : Asset Allocation and portfolio performance'),            \n",
    "                ],style={'display': 'inline-block', 'vertical-align': 'top',  \\\n",
    "                         'color':'white','horizontalAlign' : \"left\", 'width': '70%', 'background-color':'black'}), \n",
    "            ],style={'font-family': 'calibri'}),        \n",
    "         \n",
    "         #All the Investor Characteristics\n",
    "                      \n",
    "       #********************Demographics Features DropDown********\n",
    "         html.Div([   \n",
    "          html.Div([ \n",
    "            \n",
    "            html.Label('Age:',style={'padding': 5}),\n",
    "            dcc.Slider(\n",
    "                id='Age',\n",
    "                min = investors['AGE07'].min(),\n",
    "                max = 70,\n",
    "                marks={ 25: '25',35: '35',45: '45',55: '55',70: '70'},              \n",
    "                value=25),   \n",
    "            #html.Br(),\n",
    "            \n",
    "            html.Label('NetWorth:', style={'padding': 5}),\n",
    "            dcc.Slider(\n",
    "                id='Nwcat',\n",
    "                #min = investors['NETWORTH07'].min(), \n",
    "                min = -1000000, max = 3000000,\n",
    "                marks={-1000000: '-$1M',0: '0',500000: '$500K',1000000: '$1M',2000000: '$2M',},                \n",
    "                value=10000),\n",
    "            #html.Br(),\n",
    "            html.Label('Income:', style={'padding': 5}),\n",
    "            dcc.Slider(\n",
    "                id='Inccl',\n",
    "                #min = investors['INCOME07'].min(), max = investors['INCOME07'].max(),\n",
    "                min = -1000000,\n",
    "                max = 3000000,\n",
    "                marks={-1000000: '-$1M',0: '0',500000: '$500K',1000000: '$1M',2000000: '$2M',},\n",
    "                value=100000),\n",
    "            \n",
    "           # html.Br(),\n",
    "            html.Label('Education Level (scale of 4):', style={'padding': 5}),\n",
    "            dcc.Slider(\n",
    "                id='Edu',\n",
    "                min = investors['EDCL07'].min(), max = investors['EDCL07'].max(),\n",
    "                marks={ 1: '1',2: '2',3: '3',4: '4'},\n",
    "                value=2), \n",
    "            #html.Br(),\n",
    "            html.Label('Married:', style={'padding': 5}),\n",
    "            dcc.Slider(\n",
    "                id='Married',\n",
    "                min = investors['MARRIED07'].min(), max = investors['MARRIED07'].max(),\n",
    "                marks={ 1: '1',2: '2'},\n",
    "                value=1), \n",
    "            #html.Br(),\n",
    "            html.Label('Kids:', style={'padding': 5}),\n",
    "            dcc.Slider(\n",
    "                id='Kids',\n",
    "                min = investors['KIDS07'].min(), max = investors['KIDS07'].max(),\n",
    "                #marks={ 1: '1',2: '2',3: '3',4: '4'},\n",
    "                marks=[{'label': j, 'value': j} for j in investors['KIDS07'].unique()],\n",
    "                value=3), \n",
    "            #html.Br(),\n",
    "            html.Label('Occupation:', style={'padding': 5}),\n",
    "            dcc.Slider(\n",
    "                id='Occ',\n",
    "                min = investors['OCCAT107'].min(), max = investors['OCCAT107'].max(),\n",
    "                marks={ 1: '1',2: '2',3: '3',4: '4'},\n",
    "                value=3),            \n",
    "            #html.Br(),\n",
    "            html.Label('Willingness to take Risk:', style={'padding': 5}),\n",
    "            dcc.Slider(\n",
    "                id='Risk',\n",
    "                min = investors['RISK07'].min(), max = investors['RISK07'].max(),\n",
    "                marks={ 1: '1',2: '2',3: '3',4: '4'},\n",
    "                value=3), \n",
    "            #html.Br(),\n",
    "            html.Button(id='investor_char_button',\n",
    "                            n_clicks = 0,\n",
    "                            children = 'Calculate Risk Tolerance',\n",
    "                            style = {'fontSize': 14, 'marginLeft': '30px', 'color' : 'white',\\\n",
    "                                     'horizontal-align': 'left','backgroundColor': 'grey'}),             \n",
    "            #html.Br(),            \n",
    "              ],style={'width': '80%'}),           \n",
    "            \n",
    "            ],style={'width': '30%', 'font-family': 'calibri','vertical-align': 'top','display': 'inline-block'\\\n",
    "                     }),\n",
    "#                     , \"border\":\".5px black solid\"}),\n",
    "\n",
    "    # ********************Risk Tolerance Charts********            \n",
    "       html.Div([    \n",
    "               #html.H5(children='Step 2 : Enter the Instruments for the allocation portfolio'),  \n",
    "        html.Div([\n",
    "            html.Div([ \n",
    "                html.Label('Risk Tolerance (scale of 100) :', style={'padding': 5}),\n",
    "                dcc.Input(id= 'risk-tolerance-text'),\n",
    "               \n",
    "                ],style={'width': '100%','font-family': 'calibri','vertical-align': 'top','display': 'inline-block'}),\n",
    "\n",
    "            html.Div([ \n",
    "                html.Label('Select the assets for the portfolio:', style={'padding': 5}),\n",
    "                dcc.Dropdown(\n",
    "                        id='ticker_symbol',\n",
    "                        options = options,\n",
    "                        value = ['GOOGL', 'FB', 'GS','MS','GE','MSFT'], \n",
    "                        multi = True\n",
    "                        # style={'fontSize': 24, 'width': 75}\n",
    "                        ),\n",
    "                html.Button(id='submit-asset_alloc_button',\n",
    "                            n_clicks = 0,\n",
    "                            children = 'Submit',\n",
    "                            style = {'fontSize': 12, 'marginLeft': '25px','color' : 'white', 'backgroundColor': 'grey'}\n",
    "\n",
    "                ), \n",
    "               ],style={'width': '100%','font-family': 'calibri','vertical-align': 'top','display': 'inline-block'}),\n",
    "            ],style={'width': '100%','display': 'inline-block','font-family': 'calibri','vertical-align': 'top'}),\n",
    "           \n",
    "           html.Div([                \n",
    "                html.Div([\n",
    "                    dcc.Graph(id='Asset-Allocation'), \n",
    "                    ], style={'width': '50%', 'vertical-align': 'top', 'display': 'inline-block', \\\n",
    "                      'font-family': 'calibri', 'horizontal-align': 'right'}),\n",
    "                html.Div([\n",
    "                    dcc.Graph(id='Performance')\n",
    "                    ], style={'width': '50%', 'vertical-align': 'top', 'display': 'inline-block', \\\n",
    "                      'font-family': 'calibri', 'horizontal-align': 'right'}),\n",
    "                   ], style={'width': '100%', 'vertical-align': 'top', 'display': 'inline-block', \\\n",
    "                          'font-family': 'calibri', 'horizontal-align': 'right'}),          \n",
    "\n",
    "\n",
    "        ], style={'width': '70%','display': 'inline-block','font-family': 'calibri','vertical-align': 'top', 'horizontal-align': 'right'}),\n",
    "       ],style={'width': '70%','display': 'inline-block','font-family': 'calibri','vertical-align': 'top'}),               \n",
    "\n",
    "  ])    "
   ],
   "outputs": [],
   "execution_count": 8
  },
  {
   "cell_type": "markdown",
   "metadata": {},
   "source": [
    "<a id='3'></a>\n",
    "## 3. Code for the underlying functions within the interface\n",
    "\n",
    "The steps performed are as follows: \n",
    "\n",
    "1) Loading the regression model for predicting risk tolerance\n",
    "\n",
    "2) Using markovitz mean variance analysis for asset allocation\n",
    "\n",
    "3) Producing chart for the asset allocation and portfolio performance\n",
    "\n",
    "#### Click the url produced by this code to see the dashboard"
   ]
  },
  {
   "cell_type": "code",
   "metadata": {
    "ExecuteTime": {
     "end_time": "2025-05-06T14:50:25.914744Z",
     "start_time": "2025-05-06T14:50:25.865301Z"
    }
   },
   "source": [
    "def predict_riskTolerance(X_input):\n",
    "\n",
    "    filename = 'finalized_model.sav'\n",
    "    loaded_model = load(open(filename, 'rb'))\n",
    "    # estimate accuracy on validation set\n",
    "    predictions = loaded_model.predict(X_input)\n",
    "    return predictions\n",
    "\n",
    "#Asset allocation given the Return, variance\n",
    "def get_asset_allocation(riskTolerance,stock_ticker):\n",
    "    #ipdb.set_trace()\n",
    "    assets_selected = assets.loc[:,stock_ticker]\n",
    "    return_vec = np.array(assets_selected.pct_change().dropna(axis=0)).T\n",
    "    n = len(return_vec)\n",
    "    returns = np.asmatrix(return_vec)\n",
    "    mus = 1-riskTolerance\n",
    "    \n",
    "    # Convert to cvxopt matrices\n",
    "    S = opt.matrix(np.cov(return_vec))\n",
    "    pbar = opt.matrix(np.mean(return_vec, axis=1))\n",
    "    # Create constraint matrices\n",
    "    G = -opt.matrix(np.eye(n))   # negative n x n identity matrix\n",
    "    h = opt.matrix(0.0, (n ,1))\n",
    "    A = opt.matrix(1.0, (1, n))\n",
    "    b = opt.matrix(1.0)\n",
    "    # Calculate efficient frontier weights using quadratic programming\n",
    "    portfolios = solvers.qp(mus*S, -pbar, G, h, A, b)\n",
    "    w=portfolios['x'].T\n",
    "    print (w)\n",
    "    Alloc =  pd.DataFrame(data = np.array(portfolios['x']),index = assets_selected.columns)\n",
    "\n",
    "    # Calculate efficient frontier weights using quadratic programming\n",
    "    portfolios = solvers.qp(mus*S, -pbar, G, h, A, b)\n",
    "    returns_final=(np.array(assets_selected) * np.array(w))\n",
    "    returns_sum = np.sum(returns_final,axis =1)\n",
    "    returns_sum_pd = pd.DataFrame(returns_sum, index = assets.index )\n",
    "    returns_sum_pd = returns_sum_pd - returns_sum_pd.iloc[0,:] + 100   \n",
    "    return Alloc,returns_sum_pd\n",
    "\n",
    "\n",
    "\n",
    "#Callback for the graph\n",
    "#This function takes all the inputs and computes the cluster and the risk tolerance\n",
    "\n",
    "\n",
    "@app.callback(\n",
    "     [Output('risk-tolerance-text', 'value')],\n",
    "    [Input('investor_char_button', 'n_clicks'),\n",
    "    Input('Age', 'value'),Input('Nwcat', 'value'),\n",
    "    Input('Inccl', 'value'), Input('Risk', 'value'),\n",
    "    Input('Edu', 'value'),Input('Married', 'value'),\n",
    "    Input('Kids', 'value'),Input('Occ', 'value')])\n",
    "#get the x and y axis details \n",
    "\n",
    "def update_risk_tolerance(n_clicks,Age,Nwcat,Inccl,Risk,Edu,Married,Kids,Occ):\n",
    "      \n",
    "    #ipdb.set_trace()\n",
    "    \n",
    "    RiskTolerance = 0\n",
    "    if n_clicks != None:    \n",
    "        X_input = [[Age,Edu,Married,Kids,Occ,Inccl, Risk,Nwcat]]\n",
    "        RiskTolerance= predict_riskTolerance(X_input)\n",
    "    #print(RiskAversion)\n",
    "    #Using linear regression to get the risk tolerance within the cluster.    \n",
    "    return list([round(float(RiskTolerance*100),2)])\n",
    "\n",
    "@app.callback([Output('Asset-Allocation', 'figure'),\n",
    "              Output('Performance', 'figure')],\n",
    "            [Input('submit-asset_alloc_button', 'n_clicks'),\n",
    "            Input('risk-tolerance-text', 'value')], \n",
    "            [State('ticker_symbol', 'value')\n",
    "            ])\n",
    "def update_asset_allocationChart(n_clicks, risk_tolerance, stock_ticker):\n",
    "    \n",
    "    Allocated, InvestmentReturn = get_asset_allocation(risk_tolerance,stock_ticker)  \n",
    "    \n",
    "    return [{'data' : [go.Bar(\n",
    "                        x=Allocated.index,\n",
    "                        y=Allocated.iloc[:,0],\n",
    "                        marker=dict(color='red'),\n",
    "                    ),\n",
    "                    ],\n",
    "            'layout': {'title':\" Asset allocation - Mean-Variance Allocation\"}\n",
    "\n",
    "       },\n",
    "            {'data' : [go.Scatter(\n",
    "                        x=InvestmentReturn.index,\n",
    "                        y=InvestmentReturn.iloc[:,0],\n",
    "                        name = 'OEE (%)',\n",
    "                        marker=dict(color='red'),\n",
    "                    ),\n",
    "                    ],\n",
    "            'layout': {'title':\"Portfolio value of $100 investment\"}\n",
    "\n",
    "       }]\n",
    "\n",
    "if __name__ == '__main__':\n",
    "    app.run_server()"
   ],
   "outputs": [
    {
     "data": {
      "text/plain": [
       "<IPython.lib.display.IFrame at 0x27b3f3f7aa0>"
      ],
      "text/html": [
       "\n",
       "        <iframe\n",
       "            width=\"100%\"\n",
       "            height=\"650\"\n",
       "            src=\"http://127.0.0.1:8050/\"\n",
       "            frameborder=\"0\"\n",
       "            allowfullscreen\n",
       "            \n",
       "        ></iframe>\n",
       "        "
      ]
     },
     "metadata": {},
     "output_type": "display_data"
    }
   ],
   "execution_count": 9
  },
  {
   "attachments": {},
   "cell_type": "markdown",
   "metadata": {},
   "source": [
    "## Sample Dashboard\n",
    "\n",
    "<img src=\"RoboDashboard.png\" width=\"1400\" />"
   ]
  }
 ],
 "metadata": {
  "kernelspec": {
   "display_name": "Python 3",
   "language": "python",
   "name": "python3"
  },
  "language_info": {
   "codemirror_mode": {
    "name": "ipython",
    "version": 3
   },
   "file_extension": ".py",
   "mimetype": "text/x-python",
   "name": "python",
   "nbconvert_exporter": "python",
   "pygments_lexer": "ipython3",
   "version": "3.7.3"
  }
 },
 "nbformat": 4,
 "nbformat_minor": 2
}
